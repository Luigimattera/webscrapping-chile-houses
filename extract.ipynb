{
 "cells": [
  {
   "cell_type": "code",
   "execution_count": 6,
   "metadata": {},
   "outputs": [],
   "source": [
    "import requests\n",
    "from bs4 import BeautifulSoup\n",
    "import re\n",
    "from bs4.element import Tag\n",
    "import csv\n",
    "from tqdm import tqdm"
   ]
  },
  {
   "cell_type": "code",
   "execution_count": 7,
   "metadata": {},
   "outputs": [
    {
     "name": "stdout",
     "output_type": "stream",
     "text": [
      "https://www.portalinmobiliario.com/venta/casa/tarapaca\n",
      "https://www.portalinmobiliario.com/venta/casa/Antofagasta\n",
      "https://www.portalinmobiliario.com/venta/casa/Atacama\n",
      "https://www.portalinmobiliario.com/venta/casa/Coquimbo\n",
      "https://www.portalinmobiliario.com/venta/casa/Valparaíso\n",
      "https://www.portalinmobiliario.com/venta/casa/Metropolitana\n",
      "https://www.portalinmobiliario.com/venta/casa/bernardo-ohiggins\n",
      "https://www.portalinmobiliario.com/venta/casa/Maule\n",
      "https://www.portalinmobiliario.com/venta/casa/Ñuble\n",
      "https://www.portalinmobiliario.com/venta/casa/Biobío\n",
      "https://www.portalinmobiliario.com/venta/casa/la-Araucania\n",
      "https://www.portalinmobiliario.com/venta/casa/de-los-rios\n",
      "https://www.portalinmobiliario.com/venta/casa/Los-Lagos\n",
      "https://www.portalinmobiliario.com/venta/casa/Aysén\n",
      "https://www.portalinmobiliario.com/venta/casa/Magallanes\n"
     ]
    }
   ],
   "source": [
    "from urllib.parse import urlparse, parse_qs\n",
    "\n",
    "# Definir opciones para iterar\n",
    "tipos_publicacion = [\"venta\"]\n",
    "tipos_propiedad = [\"casa\"]\n",
    "regiones = [\"tarapaca\", \"Antofagasta\", \"Atacama\", \"Coquimbo\", \"Valparaíso\", \"Metropolitana\", \"bernardo-ohiggins\", \"Maule\", \"Ñuble\", \"Biobío\", \"la-Araucania\", \"de-los-rios\", \"Los-Lagos\", \"Aysén\", \"Magallanes\"]\n",
    "otras = [\"tarapaca\", \"Antofagasta\", \"Atacama\", \"Coquimbo\", \"Valparaíso\", \"Metropolitana\", \"bernardo-ohiggins\", \"Maule\", \"Ñuble\", \"Biobío\", \"la-Araucania\", \"de-los-rios\", \"Los-Lagos\", \"Aysén\", \"Magallanes\"]\n",
    "\n",
    "# Crear lista con todas las combinaciones posibles de URL\n",
    "urls = []\n",
    "for tipo_pub in tipos_publicacion:\n",
    "    for tipo_prop in tipos_propiedad:\n",
    "        for region in regiones:\n",
    "            path = f\"/{tipo_pub}/{tipo_prop}/{region}\"\n",
    "            url = \"https://www.portalinmobiliario.com\" + path\n",
    "            urls.append(url)\n",
    "\n",
    "# Imprimir las URLs generadas\n",
    "for url in urls:\n",
    "    print(url)\n"
   ]
  },
  {
   "cell_type": "code",
   "execution_count": 8,
   "metadata": {},
   "outputs": [],
   "source": [
    "for url in urls:\n",
    "  # Send a request to the website\n",
    "  response = requests.get(url)"
   ]
  },
  {
   "cell_type": "code",
   "execution_count": 9,
   "metadata": {},
   "outputs": [],
   "source": [
    "for url in urls:\n",
    "  # Parse the HTML content using BeautifulSoup\n",
    "  soup = BeautifulSoup(response.content, \"html.parser\")\n",
    "\n",
    "  # Find all the links to individual property pages\n",
    "  property_links = soup.find_all(\"a\", class_=\"ui-search-result__content-wrapper\")"
   ]
  },
  {
   "cell_type": "code",
   "execution_count": 11,
   "metadata": {},
   "outputs": [
    {
     "name": "stderr",
     "output_type": "stream",
     "text": [
      "Pages: 100%|██████████| 5/5 [02:16<00:00, 27.27s/it]\n",
      "Pages: 100%|██████████| 13/13 [06:37<00:00, 30.59s/it]it]\n",
      "Pages: 100%|██████████| 4/4 [01:45<00:00, 26.33s/it]10s/it]\n",
      "Pages: 100%|██████████| 36/36 [22:28<00:00, 37.45s/it]it]  \n",
      "Pages: 100%|██████████| 40/40 [27:54<00:00, 41.86s/it]s/it]\n",
      "Pages: 100%|██████████| 40/40 [30:18<00:00, 45.47s/it].05s/it]\n",
      "Pages: 100%|██████████| 32/32 [17:18<00:00, 32.45s/it].52s/it]\n",
      "Pages: 100%|██████████| 22/22 [11:11<00:00, 30.51s/it].72s/it]\n",
      "Pages: 100%|██████████| 40/40 [3:57:30<00:00, 356.26s/it]s/it]\n",
      "Pages: 100%|██████████| 29/29 [17:11<00:00, 35.57s/it].35s/it]\n",
      "Pages: 100%|██████████| 40/40 [21:51<00:00, 32.79s/it]2.99s/it]\n",
      "Pages: 100%|██████████| 17/17 [2:13:26<00:00, 470.99s/it]4s/it]\n",
      "Pages: 100%|██████████| 36/36 [20:29<00:00, 34.16s/it]5.29s/it]\n",
      "Pages: 100%|██████████| 2/2 [00:52<00:00, 26.34s/it]576.12s/it]\n",
      "Pages: 100%|██████████| 2/2 [00:56<00:00, 28.26s/it]2.22s/it]  \n",
      "Progress: 100%|██████████| 15/15 [9:12:28<00:00, 2209.87s/it]\n"
     ]
    }
   ],
   "source": [
    "# Crear una lista vacía para almacenar los datos de las propiedades\n",
    "property_data = []\n",
    "\n",
    "for region_url in tqdm(urls, desc=\"Progress\"):\n",
    "    # Send a request to the region page\n",
    "    region_response = requests.get(region_url)\n",
    "    region_soup = BeautifulSoup(region_response.content, \"html.parser\")\n",
    "\n",
    "    # Get the total number of pages for the region\n",
    "    num_pages_string = region_soup.find(\"li\", class_=\"andes-pagination__page-count\").text\n",
    "    num_pages = int(re.search(r'\\d+', num_pages_string).group())\n",
    "\n",
    "    # Loop through each page in the region\n",
    "    for page_num in tqdm(range(1, num_pages + 1), desc=\"Pages\"):\n",
    "        page_url = region_url.replace(\"_NoIndex_True\", f\"_Desde_{(page_num-1)*50}_NoIndex_True\")\n",
    "        page_response = requests.get(page_url)\n",
    "        page_soup = BeautifulSoup(page_response.content, \"html.parser\")\n",
    "\n",
    "        # Find all the property links on the page\n",
    "        property_links = page_soup.find_all(\"a\", class_=\"ui-search-result__content-wrapper\")\n",
    "\n",
    "        # Loop through the property links and extract the information from each page\n",
    "        for link in property_links:\n",
    "            # Get the URL of the property page\n",
    "            property_url = link.get(\"href\")\n",
    "\n",
    "            # Send a request to the property page\n",
    "            property_response = requests.get(property_url, headers={\"Accept-Charset\": \"utf-8\"})\n",
    "            # Parse the HTML content of the property page\n",
    "            property_soup = BeautifulSoup(property_response.content, \"html.parser\")\n",
    "\n",
    "            # Extract the desired information from the property page\n",
    "            if isinstance(property_soup.find(\"h1\", class_=\"ui-pdp-title\"), Tag) & isinstance(property_soup.find(\"span\", class_=\"andes-money-amount__fraction\"), Tag) & isinstance(property_soup.find(\"div\", class_=\"ui-vip-location\"), Tag) & isinstance(property_soup.find(\"p\", class_=\"ui-pdp-description__content\"), Tag):\n",
    "                property_title = property_soup.find(\"h1\", class_=\"ui-pdp-title\").text\n",
    "                property_price = property_soup.find(\"span\", class_=\"andes-money-amount__fraction\").text\n",
    "                property_location = property_soup.find(\"div\", class_=\"ui-vip-location\").text\n",
    "                property_currency = property_soup.find(\"span\", class_=\"andes-money-amount__currency-symbol\").text\n",
    "                specs_elements=\"\"\n",
    "                highlighted_specs = property_soup.find(\"div\", class_=\"ui-pdp-container__row ui-pdp-container__row--highlighted-specs-res\")\n",
    "                if highlighted_specs is not None:\n",
    "                    specs_elements = highlighted_specs.find_all(\"span\", class_=\"ui-pdp-color--BLACK ui-pdp-size--SMALL ui-pdp-family--REGULAR ui-pdp-label\")\n",
    "                    specs_list = [elem.text for elem in specs_elements]\n",
    "                    property_spec = ' | '.join(specs_list)\n",
    "                else:\n",
    "                    property_spec = \"\"\n",
    "\n",
    "                specs_list = [elem.text for elem in specs_elements]\n",
    "                property_spec = ' | '.join(specs_list)\n",
    "\n",
    "                property_description = property_soup.find(\"p\", class_=\"ui-pdp-description__content\").text\n",
    "                # Encuentre la etiqueta <div> que contiene las características\n",
    "                specs_div = property_soup.find('div', class_='ui-pdp-specs__table')\n",
    "                property_carac = \"\"\n",
    "                if specs_div is not None:\n",
    "\n",
    "                    # Encuentre la tabla dentro de la etiqueta <div>\n",
    "                    table = specs_div.find('table', class_='andes-table')\n",
    "\n",
    "                    # Encuentre todas las filas de la tabla y recórralas\n",
    "                    table_rows = table.find_all('tr')\n",
    "                    for row in table_rows:\n",
    "                        # Encuentre todas las celdas en la fila y recórralas\n",
    "                        cells = row.find_all('td')\n",
    "                        row_data = []\n",
    "                        for cell in cells:\n",
    "                            # Agregue el texto de cada celda a una lista\n",
    "                            row_data.append(cell.text.strip())\n",
    "                        # Concatene la lista en una sola cadena y agregue a la variable \"property_carac\"\n",
    "                        property_carac += \" \".join(row_data) + \"\\n\"\n",
    "                else:\n",
    "                    property_carac = \"\"\n",
    "                    \n",
    "                # Append the property data to the list\n",
    "                property_data.append({\n",
    "                    \"URL\": property_url,\n",
    "                    \"Title\": property_title,\n",
    "                    \"Price\": property_price,\n",
    "                    \"Location\": property_location,\n",
    "                    \"Currency\":property_currency,\n",
    "                    \"Spec\":property_spec,\n",
    "                    \"Carac\":property_carac,\n",
    "                    \"Description\": property_description,\n",
    "                })   \n",
    "\n",
    "# Guardar los datos en un archivo CSV\n",
    "with open(\"property_data.csv\", encoding='utf-8', mode=\"w\", newline=\"\") as file:\n",
    "    writer = csv.DictWriter(file, fieldnames=[\"URL\", \"Title\", \"Price\", \"Location\",\"Currency\",\"Spec\",\"Carac\",\"Description\"])\n",
    "    writer.writeheader()\n",
    "    for row in property_data:\n",
    "        writer.writerow(row)"
   ]
  }
 ],
 "metadata": {
  "kernelspec": {
   "display_name": "Python 3",
   "language": "python",
   "name": "python3"
  },
  "language_info": {
   "codemirror_mode": {
    "name": "ipython",
    "version": 3
   },
   "file_extension": ".py",
   "mimetype": "text/x-python",
   "name": "python",
   "nbconvert_exporter": "python",
   "pygments_lexer": "ipython3",
   "version": "3.10.6"
  },
  "orig_nbformat": 4,
  "vscode": {
   "interpreter": {
    "hash": "9a4f0b1f75230d0685db9f62ea9a74145eb856063afdde202d14c9725e05c010"
   }
  }
 },
 "nbformat": 4,
 "nbformat_minor": 2
}
